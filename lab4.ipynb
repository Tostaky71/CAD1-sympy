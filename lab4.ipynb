{
 "cells": [
  {
   "cell_type": "markdown",
   "metadata": {},
   "source": [
    "# Vectors, Matrices, Linear Algebra"
   ]
  },
  {
   "cell_type": "code",
   "execution_count": 2,
   "metadata": {
    "collapsed": true
   },
   "outputs": [],
   "source": [
    "from sympy.interactive.printing import init_printing\n",
    "from sympy import *\n",
    "import numpy as np \n",
    "init_printing(use_unicode=True)\n"
   ]
  },
  {
   "cell_type": "markdown",
   "metadata": {},
   "source": [
    "## Objectives:\n",
    "* Manipulate vectors and matrices\n",
    "* Solve some linear algebra problems "
   ]
  },
  {
   "cell_type": "markdown",
   "metadata": {},
   "source": [
    "## 1.1 Vectors"
   ]
  },
  {
   "cell_type": "code",
   "execution_count": 3,
   "metadata": {},
   "outputs": [
    {
     "name": "stdout",
     "output_type": "stream",
     "text": [
      "[0 4 6]\n"
     ]
    }
   ],
   "source": [
    "u = np.array([-1, 2, 3])\n",
    "v = np.array([1, 2 , 3])\n",
    "print(u+v)"
   ]
  },
  {
   "cell_type": "code",
   "execution_count": 4,
   "metadata": {},
   "outputs": [
    {
     "name": "stdout",
     "output_type": "stream",
     "text": [
      "[-2  0  0]\n"
     ]
    }
   ],
   "source": [
    "print(u-v)"
   ]
  },
  {
   "cell_type": "markdown",
   "metadata": {},
   "source": [
    "* Element wise product between two vectors"
   ]
  },
  {
   "cell_type": "code",
   "execution_count": 5,
   "metadata": {},
   "outputs": [
    {
     "data": {
      "text/plain": [
       "array([-1,  4,  9])"
      ]
     },
     "execution_count": 5,
     "metadata": {},
     "output_type": "execute_result"
    }
   ],
   "source": [
    "# elements wise product \n",
    "u*v"
   ]
  },
  {
   "cell_type": "markdown",
   "metadata": {},
   "source": [
    "* dot product"
   ]
  },
  {
   "cell_type": "code",
   "execution_count": 6,
   "metadata": {},
   "outputs": [
    {
     "data": {
      "text/plain": [
       "12"
      ]
     },
     "execution_count": 6,
     "metadata": {},
     "output_type": "execute_result"
    }
   ],
   "source": [
    "# dot products\n",
    "np.dot(u,v)"
   ]
  },
  {
   "cell_type": "markdown",
   "metadata": {},
   "source": [
    "* cross product"
   ]
  },
  {
   "cell_type": "code",
   "execution_count": 7,
   "metadata": {},
   "outputs": [
    {
     "data": {
      "text/plain": [
       "array([ 0,  6, -4])"
      ]
     },
     "execution_count": 7,
     "metadata": {},
     "output_type": "execute_result"
    }
   ],
   "source": [
    "np.cross(u, v)"
   ]
  },
  {
   "cell_type": "markdown",
   "metadata": {},
   "source": [
    "## 1.2 Matrices"
   ]
  },
  {
   "cell_type": "code",
   "execution_count": 8,
   "metadata": {},
   "outputs": [
    {
     "data": {
      "text/latex": [
       "$$\\left[\\begin{matrix}1 & 2\\\\3 & 4\\end{matrix}\\right]$$"
      ],
      "text/plain": [
       "⎡1  2⎤\n",
       "⎢    ⎥\n",
       "⎣3  4⎦"
      ]
     },
     "execution_count": 8,
     "metadata": {},
     "output_type": "execute_result"
    }
   ],
   "source": [
    "M = Matrix([[1,2],[3,4]])\n",
    "M"
   ]
  },
  {
   "cell_type": "code",
   "execution_count": 9,
   "metadata": {},
   "outputs": [
    {
     "data": {
      "text/latex": [
       "$$\\left[\\begin{matrix}0 & 1 & 4 & 9\\\\1 & 2 & 5 & 10\\end{matrix}\\right]$$"
      ],
      "text/plain": [
       "⎡0  1  4  9 ⎤\n",
       "⎢           ⎥\n",
       "⎣1  2  5  10⎦"
      ]
     },
     "execution_count": 9,
     "metadata": {},
     "output_type": "execute_result"
    }
   ],
   "source": [
    "i, j = symbols('i, j') \n",
    "\n",
    "def f(i, j):\n",
    "    return i**2+j**2\n",
    "\n",
    "M1 = Matrix(2, 4, f)\n",
    "M1"
   ]
  },
  {
   "cell_type": "code",
   "execution_count": 10,
   "metadata": {},
   "outputs": [
    {
     "name": "stdout",
     "output_type": "stream",
     "text": [
      "Cols and Rows of M1 matrix are 4 and 2\n",
      "the second element of row 0 is 4\n"
     ]
    }
   ],
   "source": [
    "print('Cols and Rows of M1 matrix are {} and {}'.format(M1.cols, M1.rows))\n",
    "print('the second element of row 0 is {}'.format(M1[0, 2]))"
   ]
  },
  {
   "cell_type": "code",
   "execution_count": 11,
   "metadata": {},
   "outputs": [
    {
     "data": {
      "image/png": "[encoded data removed]",
      "text/latex": [
       "$$4$$"
      ],
      "text/plain": [
       "4"
      ]
     },
     "execution_count": 11,
     "metadata": {},
     "output_type": "execute_result"
    }
   ],
   "source": [
    "M1[2]"
   ]
  },
  {
   "cell_type": "code",
   "execution_count": 12,
   "metadata": {},
   "outputs": [
    {
     "data": {
      "text/latex": [
       "$$\\left[\\begin{matrix}4 & 9\\\\5 & 10\\end{matrix}\\right]$$"
      ],
      "text/plain": [
       "⎡4  9 ⎤\n",
       "⎢     ⎥\n",
       "⎣5  10⎦"
      ]
     },
     "execution_count": 12,
     "metadata": {},
     "output_type": "execute_result"
    }
   ],
   "source": [
    "M1[:,2:4]"
   ]
  },
  {
   "cell_type": "code",
   "execution_count": 13,
   "metadata": {},
   "outputs": [
    {
     "data": {
      "text/latex": [
       "$$\\left[\\begin{matrix}1 & 2\\\\3 & 4\\end{matrix}\\right]$$"
      ],
      "text/plain": [
       "⎡1  2⎤\n",
       "⎢    ⎥\n",
       "⎣3  4⎦"
      ]
     },
     "execution_count": 13,
     "metadata": {},
     "output_type": "execute_result"
    }
   ],
   "source": [
    "a = [1, 2, 3, 4]\n",
    "M2 = Matrix(2, 2, a)\n",
    "M2"
   ]
  },
  {
   "cell_type": "markdown",
   "metadata": {},
   "source": [
    "* identity matrix"
   ]
  },
  {
   "cell_type": "code",
   "execution_count": 14,
   "metadata": {},
   "outputs": [
    {
     "data": {
      "text/latex": [
       "$$\\left[\\begin{matrix}1 & 0 & 0\\\\0 & 1 & 0\\\\0 & 0 & 1\\end{matrix}\\right]$$"
      ],
      "text/plain": [
       "⎡1  0  0⎤\n",
       "⎢       ⎥\n",
       "⎢0  1  0⎥\n",
       "⎢       ⎥\n",
       "⎣0  0  1⎦"
      ]
     },
     "execution_count": 14,
     "metadata": {},
     "output_type": "execute_result"
    }
   ],
   "source": [
    "I = eye(3)\n",
    "I"
   ]
  },
  {
   "cell_type": "code",
   "execution_count": 15,
   "metadata": {},
   "outputs": [
    {
     "data": {
      "text/latex": [
       "$$\\left[\\begin{matrix}1 & -1\\\\0 & 2\\end{matrix}\\right]$$"
      ],
      "text/plain": [
       "⎡1  -1⎤\n",
       "⎢     ⎥\n",
       "⎣0  2 ⎦"
      ]
     },
     "execution_count": 15,
     "metadata": {},
     "output_type": "execute_result"
    }
   ],
   "source": [
    "N = Matrix([[1, -1], [0, 2]])\n",
    "N"
   ]
  },
  {
   "cell_type": "markdown",
   "metadata": {},
   "source": [
    "* matrix multiplication"
   ]
  },
  {
   "cell_type": "code",
   "execution_count": 16,
   "metadata": {},
   "outputs": [
    {
     "data": {
      "text/latex": [
       "$$\\left[\\begin{matrix}1 & 3\\\\3 & 5\\end{matrix}\\right]$$"
      ],
      "text/plain": [
       "⎡1  3⎤\n",
       "⎢    ⎥\n",
       "⎣3  5⎦"
      ]
     },
     "execution_count": 16,
     "metadata": {},
     "output_type": "execute_result"
    }
   ],
   "source": [
    "M2*N"
   ]
  },
  {
   "cell_type": "code",
   "execution_count": 17,
   "metadata": {},
   "outputs": [
    {
     "data": {
      "text/latex": [
       "$$\\left[\\begin{matrix}1 & -7\\\\0 & 8\\end{matrix}\\right]$$"
      ],
      "text/plain": [
       "⎡1  -7⎤\n",
       "⎢     ⎥\n",
       "⎣0  8 ⎦"
      ]
     },
     "execution_count": 17,
     "metadata": {},
     "output_type": "execute_result"
    }
   ],
   "source": [
    "N**3"
   ]
  },
  {
   "cell_type": "markdown",
   "metadata": {},
   "source": [
    "* List comprehension to create new matrix "
   ]
  },
  {
   "cell_type": "code",
   "execution_count": 18,
   "metadata": {},
   "outputs": [
    {
     "data": {
      "text/latex": [
       "$$\\left[\\begin{matrix}1 & 1\\\\0 & 4\\end{matrix}\\right]$$"
      ],
      "text/plain": [
       "⎡1  1⎤\n",
       "⎢    ⎥\n",
       "⎣0  4⎦"
      ]
     },
     "execution_count": 18,
     "metadata": {},
     "output_type": "execute_result"
    }
   ],
   "source": [
    "Matrix(2, 2, [i*i for i in N])"
   ]
  },
  {
   "cell_type": "markdown",
   "metadata": {},
   "source": [
    "## 1.3 Linear algebra"
   ]
  },
  {
   "cell_type": "markdown",
   "metadata": {},
   "source": [
    "* transpose of a matrix"
   ]
  },
  {
   "cell_type": "code",
   "execution_count": 19,
   "metadata": {},
   "outputs": [
    {
     "data": {
      "text/latex": [
       "$$\\left[\\begin{matrix}1 & 3\\\\2 & 4\\end{matrix}\\right]$$"
      ],
      "text/plain": [
       "⎡1  3⎤\n",
       "⎢    ⎥\n",
       "⎣2  4⎦"
      ]
     },
     "execution_count": 19,
     "metadata": {},
     "output_type": "execute_result"
    }
   ],
   "source": [
    "transpose(M2)"
   ]
  },
  {
   "cell_type": "code",
   "execution_count": 20,
   "metadata": {},
   "outputs": [
    {
     "data": {
      "text/latex": [
       "$$\\left[\\begin{matrix}0 & 1\\\\1 & 2\\\\4 & 5\\\\9 & 10\\end{matrix}\\right]$$"
      ],
      "text/plain": [
       "⎡0  1 ⎤\n",
       "⎢     ⎥\n",
       "⎢1  2 ⎥\n",
       "⎢     ⎥\n",
       "⎢4  5 ⎥\n",
       "⎢     ⎥\n",
       "⎣9  10⎦"
      ]
     },
     "execution_count": 20,
     "metadata": {},
     "output_type": "execute_result"
    }
   ],
   "source": [
    "transpose(M1)"
   ]
  },
  {
   "cell_type": "markdown",
   "metadata": {},
   "source": [
    "* rank of a matrix"
   ]
  },
  {
   "cell_type": "code",
   "execution_count": 21,
   "metadata": {},
   "outputs": [
    {
     "data": {
      "image/png": "[encoded data removed]",
      "text/latex": [
       "$$3$$"
      ],
      "text/plain": [
       "3"
      ]
     },
     "execution_count": 21,
     "metadata": {},
     "output_type": "execute_result"
    }
   ],
   "source": [
    "# rank of a matrix\n",
    "I.rank()"
   ]
  },
  {
   "cell_type": "code",
   "execution_count": 22,
   "metadata": {},
   "outputs": [
    {
     "data": {
      "image/png": "[encoded data removed]",
      "text/latex": [
       "$$1$$"
      ],
      "text/plain": [
       "1"
      ]
     },
     "execution_count": 22,
     "metadata": {},
     "output_type": "execute_result"
    }
   ],
   "source": [
    "# determinant of a matrix\n",
    "I.det()"
   ]
  },
  {
   "cell_type": "code",
   "execution_count": 23,
   "metadata": {},
   "outputs": [
    {
     "data": {
      "image/png": "[encoded data removed]",
      "text/latex": [
       "$$2$$"
      ],
      "text/plain": [
       "2"
      ]
     },
     "execution_count": 23,
     "metadata": {},
     "output_type": "execute_result"
    }
   ],
   "source": [
    "M2.rank()"
   ]
  },
  {
   "cell_type": "code",
   "execution_count": 24,
   "metadata": {},
   "outputs": [
    {
     "data": {
      "image/png": "[encoded data removed]",
      "text/latex": [
       "$$-2$$"
      ],
      "text/plain": [
       "-2"
      ]
     },
     "execution_count": 24,
     "metadata": {},
     "output_type": "execute_result"
    }
   ],
   "source": [
    "M2.det()"
   ]
  },
  {
   "cell_type": "code",
   "execution_count": 25,
   "metadata": {},
   "outputs": [
    {
     "data": {
      "text/latex": [
       "$$\\left[\\begin{matrix}-2 & 1\\\\\\frac{3}{2} & - \\frac{1}{2}\\end{matrix}\\right]$$"
      ],
      "text/plain": [
       "⎡-2    1  ⎤\n",
       "⎢         ⎥\n",
       "⎣3/2  -1/2⎦"
      ]
     },
     "execution_count": 25,
     "metadata": {},
     "output_type": "execute_result"
    }
   ],
   "source": [
    "M2.inv()"
   ]
  },
  {
   "cell_type": "code",
   "execution_count": 26,
   "metadata": {},
   "outputs": [
    {
     "data": {
      "text/latex": [
       "$$\\left[\\begin{matrix}-2 & 1\\\\\\frac{3}{2} & - \\frac{1}{2}\\end{matrix}\\right]$$"
      ],
      "text/plain": [
       "⎡-2    1  ⎤\n",
       "⎢         ⎥\n",
       "⎣3/2  -1/2⎦"
      ]
     },
     "execution_count": 26,
     "metadata": {},
     "output_type": "execute_result"
    }
   ],
   "source": [
    "M2**-1"
   ]
  },
  {
   "cell_type": "markdown",
   "metadata": {},
   "source": [
    "* eigenvalues"
   ]
  },
  {
   "cell_type": "code",
   "execution_count": 27,
   "metadata": {},
   "outputs": [
    {
     "data": {
      "image/png": "[encoded data removed]",
      "text/latex": [
       "$$\\left \\{ \\frac{5}{2} + \\frac{\\sqrt{33}}{2} : 1, \\quad - \\frac{\\sqrt{33}}{2} + \\frac{5}{2} : 1\\right \\}$$"
      ],
      "text/plain": [
       "⎧5   √33       √33   5   ⎫\n",
       "⎨─ + ───: 1, - ─── + ─: 1⎬\n",
       "⎩2    2         2    2   ⎭"
      ]
     },
     "execution_count": 27,
     "metadata": {},
     "output_type": "execute_result"
    }
   ],
   "source": [
    "evals = M2.eigenvals()\n",
    "evals"
   ]
  },
  {
   "cell_type": "code",
   "execution_count": 28,
   "metadata": {},
   "outputs": [
    {
     "data": {
      "text/plain": [
       "dict_values([1, 1])"
      ]
     },
     "execution_count": 28,
     "metadata": {},
     "output_type": "execute_result"
    }
   ],
   "source": [
    "evals.values()"
   ]
  },
  {
   "cell_type": "markdown",
   "metadata": {},
   "source": [
    "## 2 Exercises\n"
   ]
  },
  {
   "cell_type": "markdown",
   "metadata": {
    "collapsed": true
   },
   "source": [
    "### 2.1 Vector manipulation\n",
    "* Q 2.1.1 - Define the two vectors\n",
    "$$c = \\begin{bmatrix} \n",
    "  \\sin(\\theta)\\cos(\\phi) \\\\\n",
    "  \\sin(\\theta)\\sin(\\phi)\\\\\n",
    "  \\cos(\\theta)\n",
    "\\end{bmatrix}\n",
    ", \n",
    "o = \\begin{bmatrix} \n",
    "  -\\cos(\\theta)\\cos(\\phi) \\\\\n",
    "  -\\cos(\\theta)\\sin(\\phi)\\\\\n",
    "  \\sin(\\theta)\n",
    "\\end{bmatrix}$$"
   ]
  },
  {
   "cell_type": "code",
   "execution_count": 29,
   "metadata": {},
   "outputs": [
    {
     "name": "stdout",
     "output_type": "stream",
     "text": [
      "c = [sin(θ)*cos(ϕ) sin(θ)*sin(ϕ) cos(θ)]\n",
      "o = [-cos(θ)*cos(ϕ) -sin(ϕ)*cos(θ) sin(θ)]\n"
     ]
    }
   ],
   "source": [
    "θ , ϕ = symbols('θ , ϕ')\n",
    "c = np.array([sin(θ)*cos(ϕ),sin(θ)*sin(ϕ),cos(θ)])\n",
    "o = np.array([-cos(θ)*cos(ϕ),-cos(θ)*sin(ϕ),sin(θ)])\n",
    "print ('c =', c)\n",
    "print ('o =', o)"
   ]
  },
  {
   "cell_type": "code",
   "execution_count": null,
   "metadata": {
    "collapsed": true
   },
   "outputs": [],
   "source": []
  },
  {
   "cell_type": "markdown",
   "metadata": {},
   "source": [
    "* Q 2.1.2 - Prove that these vectors are orthogonal "
   ]
  },
  {
   "cell_type": "code",
   "execution_count": 30,
   "metadata": {},
   "outputs": [
    {
     "data": {
      "image/png": "[encoded data removed]",
      "text/latex": [
       "$$0$$"
      ],
      "text/plain": [
       "0"
      ]
     },
     "execution_count": 30,
     "metadata": {},
     "output_type": "execute_result"
    }
   ],
   "source": [
    "A = np.dot(o, c)\n",
    "\n",
    "def function(θ , ϕ):\n",
    "    f = -sin(θ)*sin(ϕ)**2*cos(θ) - sin(θ)*cos(θ)*cos(ϕ)**2 + sin(θ)*cos(θ)\n",
    "    return f\n",
    "\n",
    "function(np.pi/5 , np.pi/3)"
   ]
  },
  {
   "cell_type": "code",
   "execution_count": 48,
   "metadata": {},
   "outputs": [
    {
     "data": {
      "image/png": "[encoded data removed]",
      "text/latex": [
       "$$0$$"
      ],
      "text/plain": [
       "0"
      ]
     },
     "execution_count": 48,
     "metadata": {},
     "output_type": "execute_result"
    }
   ],
   "source": [
    "#other way :\n",
    "\n",
    "A = np.dot(o, c)\n",
    "A.simplify()"
   ]
  },
  {
   "cell_type": "markdown",
   "metadata": {},
   "source": [
    "* Q2.1.3 - prove that their norm is 1"
   ]
  },
  {
   "cell_type": "code",
   "execution_count": 49,
   "metadata": {},
   "outputs": [
    {
     "data": {
      "image/png": "[encoded data removed]",
      "text/latex": [
       "$$1$$"
      ],
      "text/plain": [
       "1"
      ]
     },
     "execution_count": 49,
     "metadata": {},
     "output_type": "execute_result"
    }
   ],
   "source": [
    "o_norm = sqrt(np.dot(o,o))\n",
    "o_norm.simplify()"
   ]
  },
  {
   "cell_type": "code",
   "execution_count": 46,
   "metadata": {},
   "outputs": [
    {
     "data": {
      "image/png": "[encoded data removed]",
      "text/latex": [
       "$$1$$"
      ],
      "text/plain": [
       "1"
      ]
     },
     "execution_count": 46,
     "metadata": {},
     "output_type": "execute_result"
    }
   ],
   "source": [
    "c_norm = sqrt(np.dot(c,c))\n",
    "c_norm.simplify()"
   ]
  },
  {
   "cell_type": "markdown",
   "metadata": {},
   "source": [
    "* Q2.1.3 - Compute the third vector $b$ that is orthogonal to both $o$ and $c$"
   ]
  },
  {
   "cell_type": "code",
   "execution_count": 50,
   "metadata": {},
   "outputs": [
    {
     "data": {
      "text/plain": [
       "array([sin(θ)**2*sin(ϕ) + sin(ϕ)*cos(θ)**2,\n",
       "       -sin(θ)**2*cos(ϕ) - cos(θ)**2*cos(ϕ), 0], dtype=object)"
      ]
     },
     "execution_count": 50,
     "metadata": {},
     "output_type": "execute_result"
    }
   ],
   "source": [
    "b = np.cross(c,o)\n",
    "b"
   ]
  },
  {
   "cell_type": "markdown",
   "metadata": {},
   "source": [
    "### 2.2 Basic matrices computation\n",
    "\n",
    "Consider the following matrices:\n",
    "$$\n",
    "A = \\begin{bmatrix} \n",
    "  -3 & 2 \\\\\n",
    "   0 & 4\\\\\n",
    "   1 & -1\n",
    "\\end{bmatrix}\n",
    ", \n",
    "B = \\begin{bmatrix} \n",
    "  1 & 2 \\\\\n",
    "  0 & 1 \\\\\n",
    "  1 & 1\n",
    "\\end{bmatrix}\n",
    "$$\n",
    "* Q 2.2.1 - Find a matrix $C$ such that $A-2B-C=0$\n",
    "* Q 2.2.2 - Find a matrix $D$ such that $A+B+C+4D =0$"
   ]
  },
  {
   "cell_type": "code",
   "execution_count": 33,
   "metadata": {},
   "outputs": [
    {
     "data": {
      "text/latex": [
       "$$\\left[\\begin{matrix}-5 & -2\\\\0 & 2\\\\-1 & -3\\end{matrix}\\right]$$"
      ],
      "text/plain": [
       "⎡-5  -2⎤\n",
       "⎢      ⎥\n",
       "⎢0   2 ⎥\n",
       "⎢      ⎥\n",
       "⎣-1  -3⎦"
      ]
     },
     "execution_count": 33,
     "metadata": {},
     "output_type": "execute_result"
    }
   ],
   "source": [
    "A = Matrix([[-3, 2], [0, 4], [1, -1]])\n",
    "B = Matrix([[1, 2],[0,1],[1, 1]])\n",
    "C = A - 2*B\n",
    "C"
   ]
  },
  {
   "cell_type": "code",
   "execution_count": 34,
   "metadata": {},
   "outputs": [
    {
     "data": {
      "text/latex": [
       "$$\\left[\\begin{matrix}- \\frac{7}{4} & \\frac{1}{2}\\\\0 & \\frac{7}{4}\\\\\\frac{1}{4} & - \\frac{3}{4}\\end{matrix}\\right]$$"
      ],
      "text/plain": [
       "⎡-7/4  1/2 ⎤\n",
       "⎢          ⎥\n",
       "⎢ 0    7/4 ⎥\n",
       "⎢          ⎥\n",
       "⎣1/4   -3/4⎦"
      ]
     },
     "execution_count": 34,
     "metadata": {},
     "output_type": "execute_result"
    }
   ],
   "source": [
    "D = (A+B+C)/4\n",
    "D"
   ]
  },
  {
   "cell_type": "markdown",
   "metadata": {},
   "source": [
    "### 2.3 Linear system \n",
    "Find the following linear system by first using solve and then using matrix representation.\n",
    "\n",
    "$$\n",
    "  \\begin{cases}\n",
    "    x_1 + 2x_2 + 3x_3 + 4x_4 &= 25,\\\\\n",
    "    -x_2 + x_3 -x_4 &= 5,\\\\\n",
    "    x_1 + 2x_2+ 2x_3 &= 20, \\\\\n",
    "    2x_1 + 3x_3 &= 19\n",
    "  \\end{cases}\n",
    "$$\n",
    "\n"
   ]
  },
  {
   "cell_type": "code",
   "execution_count": 36,
   "metadata": {},
   "outputs": [],
   "source": [
    "x1, x2, x3, x4 = symbols('x1,x2,x3,x4')"
   ]
  },
  {
   "cell_type": "code",
   "execution_count": 55,
   "metadata": {
    "collapsed": true
   },
   "outputs": [],
   "source": [
    "A = Matrix([[1,2,3,4],[0,-1,1,-1],[1,2,2,0],[2,0,3,0]])"
   ]
  },
  {
   "cell_type": "code",
   "execution_count": 38,
   "metadata": {
    "collapsed": true
   },
   "outputs": [],
   "source": [
    "X = Matrix([[x1],[x2],[x3],[x4]])"
   ]
  },
  {
   "cell_type": "code",
   "execution_count": 39,
   "metadata": {
    "collapsed": true,
    "scrolled": true
   },
   "outputs": [],
   "source": [
    "B = Matrix([[25],[5],[20],[19]])"
   ]
  },
  {
   "cell_type": "code",
   "execution_count": 40,
   "metadata": {},
   "outputs": [
    {
     "data": {
      "text/latex": [
       "$$\\left[\\begin{matrix}-2\\\\\\frac{10}{3}\\\\\\frac{23}{3}\\\\- \\frac{2}{3}\\end{matrix}\\right]$$"
      ],
      "text/plain": [
       "⎡ -2 ⎤\n",
       "⎢    ⎥\n",
       "⎢10/3⎥\n",
       "⎢    ⎥\n",
       "⎢23/3⎥\n",
       "⎢    ⎥\n",
       "⎣-2/3⎦"
      ]
     },
     "execution_count": 40,
     "metadata": {},
     "output_type": "execute_result"
    }
   ],
   "source": [
    "X = A.inv()*B\n",
    "X"
   ]
  },
  {
   "cell_type": "code",
   "execution_count": 57,
   "metadata": {},
   "outputs": [
    {
     "data": {
      "text/latex": [
       "$$\\left[\\begin{matrix}-2\\\\\\frac{10}{3}\\\\\\frac{23}{3}\\\\- \\frac{2}{3}\\end{matrix}\\right]$$"
      ],
      "text/plain": [
       "⎡ -2 ⎤\n",
       "⎢    ⎥\n",
       "⎢10/3⎥\n",
       "⎢    ⎥\n",
       "⎢23/3⎥\n",
       "⎢    ⎥\n",
       "⎣-2/3⎦"
      ]
     },
     "execution_count": 57,
     "metadata": {},
     "output_type": "execute_result"
    }
   ],
   "source": [
    "# other way :\n",
    "\n",
    "A.solve_least_squares(B)"
   ]
  },
  {
   "cell_type": "markdown",
   "metadata": {},
   "source": [
    "### 2.4 Commuting matrices \n",
    "In linear algebra, two matrices $A$ and $B$ are said to commute if $A.B = B.A$ and equivalently their commutator $A.B - B.A = 0$.\n",
    "Find all the matrices that when commutes with matrix \n",
    "$A = \n",
    "\\begin{bmatrix}\n",
    "1 & 0 & 0 \\\\\n",
    "0 & 3 & 0 \\\\\n",
    "0 & 0 & 5\n",
    "\\end{bmatrix}\n",
    "$\n",
    "can be writen in the form of:\n",
    "$$\n",
    "B = \\begin{bmatrix}\n",
    "k_1  & 0 & 0 \\\\\n",
    "0 & k_2 & 0 \\\\\n",
    "0 & 0 & k_3\n",
    "\\end{bmatrix} , k_1, k_2, k_3 \\in \\rm I\\!R\n",
    "$$\n"
   ]
  },
  {
   "cell_type": "code",
   "execution_count": 60,
   "metadata": {},
   "outputs": [
    {
     "data": {
      "text/latex": [
       "$$\\left ( \\left[\\begin{matrix}1 & 0 & 0\\\\0 & 3 & 0\\\\0 & 0 & 5\\end{matrix}\\right], \\quad \\left[\\begin{matrix}a_{11} & a_{12} & a_{13}\\\\a_{21} & a_{22} & a_{23}\\\\a_{31} & a_{32} & a_{33}\\end{matrix}\\right]\\right )$$"
      ],
      "text/plain": [
       "⎛⎡1  0  0⎤  ⎡a₁₁  a₁₂  a₁₃⎤⎞\n",
       "⎜⎢       ⎥  ⎢             ⎥⎟\n",
       "⎜⎢0  3  0⎥, ⎢a₂₁  a₂₂  a₂₃⎥⎟\n",
       "⎜⎢       ⎥  ⎢             ⎥⎟\n",
       "⎝⎣0  0  5⎦  ⎣a₃₁  a₃₂  a₃₃⎦⎠"
      ]
     },
     "execution_count": 60,
     "metadata": {},
     "output_type": "execute_result"
    }
   ],
   "source": [
    "a11,a12,a13, a21,a22,a23, a31,a32,a33 = symbols('a11,a12,a13, a21,a22,a23, a31,a32,a33')\n",
    "A = Matrix([[1,0,0],[0,3,0],[0,0,5]])\n",
    "B = Matrix([[a11,a12,a13],[a21,a22,a23],[a31,a32,a33]])\n",
    "A,B"
   ]
  },
  {
   "cell_type": "code",
   "execution_count": 63,
   "metadata": {},
   "outputs": [
    {
     "data": {
      "text/latex": [
       "$$\\left[\\begin{matrix}0 & - 2 a_{12} & - 4 a_{13}\\\\2 a_{21} & 0 & - 2 a_{23}\\\\4 a_{31} & 2 a_{32} & 0\\end{matrix}\\right]$$"
      ],
      "text/plain": [
       "⎡  0    -2⋅a₁₂  -4⋅a₁₃⎤\n",
       "⎢                     ⎥\n",
       "⎢2⋅a₂₁    0     -2⋅a₂₃⎥\n",
       "⎢                     ⎥\n",
       "⎣4⋅a₃₁  2⋅a₃₂     0   ⎦"
      ]
     },
     "execution_count": 63,
     "metadata": {},
     "output_type": "execute_result"
    }
   ],
   "source": [
    "M = A*B - B*A\n",
    "M"
   ]
  },
  {
   "cell_type": "code",
   "execution_count": null,
   "metadata": {
    "collapsed": true
   },
   "outputs": [],
   "source": []
  },
  {
   "cell_type": "markdown",
   "metadata": {},
   "source": [
    "### 2.5 Invertible matrix\n",
    "For which values of $t$ the following matrix is not invertible: \n",
    "$$ A = \n",
    "\\begin{bmatrix}\n",
    "t+3 & -1 & 1\\\\\n",
    "5 & t-3 & 2\\\\\n",
    "6 & -6 & t+4 \\\\ \n",
    "\\end{bmatrix}\n",
    "$$"
   ]
  },
  {
   "cell_type": "code",
   "execution_count": 72,
   "metadata": {},
   "outputs": [
    {
     "data": {
      "image/png": "[encoded data removed]",
      "text/latex": [
       "$$\\left [ -2, \\quad -1 + \\sqrt{3}, \\quad - \\sqrt{3} - 1\\right ]$$"
      ],
      "text/plain": [
       "[-2, -1 + √3, -√3 - 1]"
      ]
     },
     "execution_count": 72,
     "metadata": {},
     "output_type": "execute_result"
    }
   ],
   "source": [
    "#the matrix is invertible when its determinant is equal to 0.\n",
    "\n",
    "t = symbols('t')\n",
    "A = Matrix([[t+3,-1,1],[5,t-3,2],[6,-6,t+4]])\n",
    "A.det()\n",
    "\n",
    "solve(A.det(),t)"
   ]
  },
  {
   "cell_type": "code",
   "execution_count": null,
   "metadata": {
    "collapsed": true
   },
   "outputs": [],
   "source": []
  },
  {
   "cell_type": "markdown",
   "metadata": {},
   "source": [
    "### 2.6 Pseudo inverse of matrix\n",
    "\n",
    "The pseudo-inverse of a $m\\times n$ matrix $A$ is a generalization of a inverse matrix.\n",
    "For an overdetermined set of linear equations represented by its matrix $A$ (with $m \\ge n$),\n",
    "if A is full column rank, meaning $rank(A) = n \\le m$. Therefore, $A^{T}.A$ is not singular and the pseudo-inverse $A^{\\dagger}$ is a left inverse of $A$, in the sense that $A^{\\dagger}.A = In$\n",
    "In this case we have the closed-form expresson $A^{\\dagger} = (A^{T}. A)^{-1}.A^{T}$.\n",
    "The solution to the least-squares problem $min_{x} \\Vert Ax-y\\Vert$, where the minimum norm is $x^{\\ast} = A^{\\dagger}.y$\n",
    "\n",
    "Now consider the following linear systems, find the solution using least-square method:\n",
    "\n",
    "$$\n",
    "  \\begin{cases}\n",
    "    x+z & = 1.5\\\\\n",
    "    x-y & =2.1\\\\\n",
    "    x-z & = 0.8\\\\\n",
    "    x+y & = 0.6\n",
    "  \\end{cases}\n",
    "$$"
   ]
  },
  {
   "cell_type": "code",
   "execution_count": 83,
   "metadata": {
    "collapsed": true
   },
   "outputs": [],
   "source": [
    "x, y, z = symbols('x, y, z')"
   ]
  },
  {
   "cell_type": "code",
   "execution_count": 87,
   "metadata": {},
   "outputs": [
    {
     "data": {
      "text/latex": [
       "$$\\left ( \\left[\\begin{matrix}1 & 0 & 1\\\\1 & -1 & 0\\\\1 & 0 & -1\\\\1 & 1 & 0\\end{matrix}\\right], \\quad \\left[\\begin{matrix}1.5\\\\2.1\\\\0.8\\\\0.6\\end{matrix}\\right], \\quad \\left[\\begin{matrix}x\\\\y\\\\z\\end{matrix}\\right]\\right )$$"
      ],
      "text/plain": [
       "⎛⎡1  0   1 ⎤  ⎡1.5⎤     ⎞\n",
       "⎜⎢         ⎥  ⎢   ⎥  ⎡x⎤⎟\n",
       "⎜⎢1  -1  0 ⎥  ⎢2.1⎥  ⎢ ⎥⎟\n",
       "⎜⎢         ⎥, ⎢   ⎥, ⎢y⎥⎟\n",
       "⎜⎢1  0   -1⎥  ⎢0.8⎥  ⎢ ⎥⎟\n",
       "⎜⎢         ⎥  ⎢   ⎥  ⎣z⎦⎟\n",
       "⎝⎣1  1   0 ⎦  ⎣0.6⎦     ⎠"
      ]
     },
     "execution_count": 87,
     "metadata": {},
     "output_type": "execute_result"
    }
   ],
   "source": [
    "a = Matrix([[1,0,1],[1,-1,0],[1,0,-1],[1,1,0]])\n",
    "b = Matrix([[1.5],[2.1],[0.8],[0.6]])\n",
    "X = transpose(Matrix([[x,y,z]]))\n",
    "a,b,X"
   ]
  },
  {
   "cell_type": "code",
   "execution_count": 89,
   "metadata": {},
   "outputs": [
    {
     "data": {
      "text/latex": [
       "$$\\left[\\begin{matrix}1.25\\\\-0.75\\\\0.35\\end{matrix}\\right]$$"
      ],
      "text/plain": [
       "⎡1.25 ⎤\n",
       "⎢     ⎥\n",
       "⎢-0.75⎥\n",
       "⎢     ⎥\n",
       "⎣0.35 ⎦"
      ]
     },
     "execution_count": 89,
     "metadata": {},
     "output_type": "execute_result"
    }
   ],
   "source": [
    "A_result = (a.transpose()*a).inv()*(a.transpose())*b\n",
    "A_result"
   ]
  },
  {
   "cell_type": "code",
   "execution_count": null,
   "metadata": {
    "collapsed": true
   },
   "outputs": [],
   "source": []
  }
 ],
 "metadata": {
  "anaconda-cloud": {},
  "kernelspec": {
   "display_name": "Python 3",
   "language": "python",
   "name": "python3"
  },
  "language_info": {
   "codemirror_mode": {
    "name": "ipython",
    "version": 3
   },
   "file_extension": ".py",
   "mimetype": "text/x-python",
   "name": "python",
   "nbconvert_exporter": "python",
   "pygments_lexer": "ipython3",
   "version": "3.6.1"
  }
 },
 "nbformat": 4,
 "nbformat_minor": 2
}
