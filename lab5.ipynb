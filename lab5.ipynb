{
 "cells": [
  {
   "cell_type": "code",
   "execution_count": 5,
   "metadata": {
    "collapsed": true
   },
   "outputs": [],
   "source": [
    "from sympy.interactive.printing import init_printing\n",
    "from sympy import *\n",
    "import numpy as np\n",
    "init_printing(use_unicode=True)"
   ]
  },
  {
   "cell_type": "markdown",
   "metadata": {},
   "source": [
    "# Fourier Series\n",
    "## Introduction \n",
    "For a periodic function $f$ of period $P$, the Fourier series expansion enables to write the function with the following form:\n",
    "$$\n",
    "f(t) = \\frac{a_{0}}{2} + \\sum^{\\infty}_{n=1} a_{n} \\cos (2n\\pi \\frac{t}{P}) + \\sum^{\\infty}_{n=1} b_{n} \\sin (2n\\pi \\frac{t}{P})\n",
    "$$\n",
    "\n",
    "where the constant coefficients $a_n$ and $b_n$ are defined according to: \n",
    "$$\n",
    "a_n = \\frac{2}{P}\\int^{\\frac{P}{2}}_{-\\frac{P}{2}}f(t) \\cos(2n\\pi\\frac{t}{P})dt\n",
    "$$\n",
    ", \n",
    "$$\n",
    "b_n = \\frac{2}{P}\\int^{\\frac{P}{2}}_{-\\frac{P}{2}}f(t) \\sin(2n\\pi\\frac{t}{P})dt\n",
    "$$\n",
    "and the first term of expansion is defined by $a_{0}$ is twice the average of $f(t)$ over the domain $P$:\n",
    "$$\n",
    "\\frac{a_{0}}{2} = \\frac{1}{P}\\int^{\\frac{P}{2}}_{-\\frac{P}{2}}f(t)dt\n",
    "$$\n",
    "\n",
    "We can notice that:\n",
    "* if $f$ is an even function, which means $f(-t) = f(t)$, then $\\forall n \\in   \\rm I\\!N^{+}, b_{n} = 0 $\n",
    "* if $f$ is an odd function, which means $f(-t) = -f(t)$, then $\\forall n \\in   \\rm I\\!N^{+}, a_{n} = 0 $"
   ]
  },
  {
   "cell_type": "markdown",
   "metadata": {},
   "source": [
    "## Exercises\n",
    "### 1. Fourier Series expansion of basic functions \n",
    "For both functions of $f(t)=t$ and $f(t) = \\vert \\cos(\\pi\\frac{t}{P})\\vert$ \n",
    "* Q.1 - Define the function, with the assumption that is only defined on $P$.\n",
    "* Q.2 - Plot the function over $[\\frac{-P}{2}, \\frac{P}{2}]$ with $P = 1$\n",
    "* Q.3 - compute manually $a_n$ and $b_n$ and check if the function is even or odd \n",
    "* Q.4 - Give the first seven elements of $a_n$ or $b_n$ depending if the function is odd or even "
   ]
  },
  {
   "cell_type": "code",
   "execution_count": 39,
   "metadata": {
    "collapsed": true
   },
   "outputs": [],
   "source": [
    "#Q.1 :\n",
    "\n",
    "t,P = symbols('t,P',positive=True)\n",
    "\n",
    "def f1(t):\n",
    "    return t\n",
    "    \n",
    "def f2(t):\n",
    "    return sqrt((cos((pi*t)/P))**2)"
   ]
  },
  {
   "cell_type": "code",
   "execution_count": 40,
   "metadata": {},
   "outputs": [
    {
     "data": {
      "image/png": "[encoded data removed]",
      "text/plain": [
       "<matplotlib.figure.Figure at 0x7f5c57b335c0>"
      ]
     },
     "metadata": {},
     "output_type": "display_data"
    }
   ],
   "source": [
    "#Q.2 :\n",
    "\n",
    "P=1\n",
    "\n",
    "graph = plot(f2(t),f1(t), (t,(-P/2),(P/2)), show=False, legend=True)\n",
    "\n",
    "graph[0].line_color = \"b\"\n",
    "graph[1].line_color = \"r\"\n",
    "\n",
    "graph.show()"
   ]
  },
  {
   "cell_type": "code",
   "execution_count": 53,
   "metadata": {},
   "outputs": [
    {
     "name": "stdout",
     "output_type": "stream",
     "text": [
      "the function f(t)=t is odd.\n",
      "the function f(t)=|cos(pi*t/P)| is even.\n"
     ]
    }
   ],
   "source": [
    "#Q.3 :\n",
    "\n",
    "n = symbols('n', positive=True)\n",
    "an1, an2, bn1, bn2 = symbols('an1,an2,bn1,bn2')\n",
    "\n",
    "an1 = (2/P)*integrate(f1(t)*cos(2*n*pi*(t/P)), (t, (-P/2), (P/2)))\n",
    "bn1 = (2/P)*integrate(f1(t)*sin(2*n*pi*(t/P)), (t, (-P/2), (P/2)))\n",
    "if an1 == 0 :\n",
    "    print(\"the function f(t)=t is odd.\")\n",
    "else :\n",
    "    print(\"the function f(t)=t is even.\")\n",
    "    \n",
    "an2 = (2/P)*integrate(f2(t)*cos(2*n*pi*(t/P)), (t, (-P/2), (P/2)))\n",
    "bn2 = (2/P)*integrate(f2(t)*sin(2*n*pi*(t/P)), (t, (-P/2), (P/2)))\n",
    "\n",
    "if an2 == 0 :\n",
    "    print(\"the function f(t)=|cos(pi*t/P)| is odd.\")\n",
    "else :\n",
    "    print(\"the function f(t)=|cos(pi*t/P)| is even.\")"
   ]
  },
  {
   "cell_type": "code",
   "execution_count": 58,
   "metadata": {},
   "outputs": [
    {
     "name": "stdout",
     "output_type": "stream",
     "text": [
      "1.0/pi\n",
      "-0.5/pi\n",
      "0.333333333333333/pi\n",
      "-0.25/pi\n",
      "0.2/pi\n",
      "-0.166666666666667/pi\n",
      "0.142857142857143/pi\n",
      "2.0*Integral(cos(2*pi*t)*Abs(cos(pi*t)), (t, -0.5, 0.5))\n",
      "2.0*Integral(cos(4*pi*t)*Abs(cos(pi*t)), (t, -0.5, 0.5))\n",
      "2.0*Integral(cos(6*pi*t)*Abs(cos(pi*t)), (t, -0.5, 0.5))\n",
      "2.0*Integral(cos(8*pi*t)*Abs(cos(pi*t)), (t, -0.5, 0.5))\n",
      "2.0*Integral(cos(10*pi*t)*Abs(cos(pi*t)), (t, -0.5, 0.5))\n",
      "2.0*Integral(cos(12*pi*t)*Abs(cos(pi*t)), (t, -0.5, 0.5))\n",
      "2.0*Integral(cos(14*pi*t)*Abs(cos(pi*t)), (t, -0.5, 0.5))\n"
     ]
    }
   ],
   "source": [
    "#Q.4 :\n",
    "\n",
    "n = 1\n",
    "\n",
    "while n < 8:\n",
    "    bn1 = (2/P)*integrate(f1(t)*sin(2*n*pi*(t/P)), (t, (-P/2), (P/2)))\n",
    "    print(bn1)\n",
    "    n = n+1\n",
    "    \n",
    "n = 1\n",
    "\n",
    "while n < 8:\n",
    "    an2 = (2/P)*integrate(f2(t)*cos(2*n*pi*(t/P)), (t, (-P/2), (P/2)))\n",
    "    print(an2)\n",
    "    n = n+1 \n",
    "\n",
    "    #I dont know why the 2nd function is not solving itself"
   ]
  },
  {
   "cell_type": "code",
   "execution_count": null,
   "metadata": {},
   "outputs": [],
   "source": []
  },
  {
   "cell_type": "code",
   "execution_count": null,
   "metadata": {},
   "outputs": [],
   "source": []
  },
  {
   "cell_type": "code",
   "execution_count": null,
   "metadata": {
    "collapsed": true
   },
   "outputs": [],
   "source": []
  },
  {
   "cell_type": "markdown",
   "metadata": {},
   "source": [
    "## Fourier Series functions of sympy"
   ]
  },
  {
   "cell_type": "code",
   "execution_count": 23,
   "metadata": {
    "collapsed": true
   },
   "outputs": [],
   "source": [
    "s= fourier_series(f(t,1), (t, -pi, pi))"
   ]
  },
  {
   "cell_type": "code",
   "execution_count": 37,
   "metadata": {},
   "outputs": [
    {
     "data": {
      "image/png": "[encoded data removed]",
      "text/latex": [
       "$$\\frac{1}{\\pi} \\cos{\\left (t \\right )} \\int_{- \\pi}^{\\pi} \\cos{\\left (t \\right )} \\left|{\\cos{\\left (\\pi t \\right )}}\\right|\\, dt + \\frac{1}{\\pi} \\cos{\\left (2 t \\right )} \\int_{- \\pi}^{\\pi} \\cos{\\left (2 t \\right )} \\left|{\\cos{\\left (\\pi t \\right )}}\\right|\\, dt + \\frac{1}{2 \\pi} \\int_{- \\pi}^{\\pi} \\left|{\\cos{\\left (\\pi t \\right )}}\\right|\\, dt$$"
      ],
      "text/plain": [
       "       π                                  π                           π       \n",
       "       ⌠                                  ⌠                           ⌠       \n",
       "cos(t)⋅⎮  cos(t)⋅│cos(π⋅t)│ dt   cos(2⋅t)⋅⎮  cos(2⋅t)⋅│cos(π⋅t)│ dt   ⎮  │cos(\n",
       "       ⌡                                  ⌡                           ⌡       \n",
       "       -π                                 -π                          -π      \n",
       "────────────────────────────── + ────────────────────────────────── + ────────\n",
       "              π                                  π                          2⋅\n",
       "\n",
       "        \n",
       "        \n",
       "π⋅t)│ dt\n",
       "        \n",
       "        \n",
       "────────\n",
       "π       "
      ]
     },
     "execution_count": 37,
     "metadata": {},
     "output_type": "execute_result"
    }
   ],
   "source": [
    "s.truncate(3)"
   ]
  },
  {
   "cell_type": "code",
   "execution_count": 39,
   "metadata": {
    "collapsed": true
   },
   "outputs": [],
   "source": [
    "from sympy.series import fourier"
   ]
  },
  {
   "cell_type": "code",
   "execution_count": 41,
   "metadata": {
    "collapsed": true
   },
   "outputs": [],
   "source": [
    "s2 = fourier.fourier_series(f(t,1), (-pi, pi))\n"
   ]
  },
  {
   "cell_type": "code",
   "execution_count": 43,
   "metadata": {},
   "outputs": [
    {
     "data": {
      "text/latex": [
       "$$\\left\\[\\frac{1}{\\pi} \\cos{\\left (t \\right )} \\int_{- \\pi}^{\\pi} \\cos{\\left (t \\right )} \\left|{\\cos{\\left (\\pi t \\right )}}\\right|\\, dt, \\frac{1}{\\pi} \\cos{\\left (2 t \\right )} \\int_{- \\pi}^{\\pi} \\cos{\\left (2 t \\right )} \\left|{\\cos{\\left (\\pi t \\right )}}\\right|\\, dt, \\frac{1}{\\pi} \\cos{\\left (3 t \\right )} \\int_{- \\pi}^{\\pi} \\cos{\\left (3 t \\right )} \\left|{\\cos{\\left (\\pi t \\right )}}\\right|\\, dt, \\frac{1}{\\pi} \\cos{\\left (4 t \\right )} \\int_{- \\pi}^{\\pi} \\cos{\\left (4 t \\right )} \\left|{\\cos{\\left (\\pi t \\right )}}\\right|\\, dt, \\ldots\\right\\]$$"
      ],
      "text/plain": [
       "⎡       π                                 π                                   \n",
       "⎢       ⌠                                 ⌠                                   \n",
       "⎢cos(t)⋅⎮  cos(t)⋅│cos(π⋅t)│ dt  cos(2⋅t)⋅⎮  cos(2⋅t)⋅│cos(π⋅t)│ dt  cos(3⋅t)⋅\n",
       "⎢       ⌡                                 ⌡                                   \n",
       "⎢       -π                                -π                                  \n",
       "⎢──────────────────────────────, ──────────────────────────────────, ─────────\n",
       "⎣              π                                 π                            \n",
       "\n",
       "π                                   π                           ⎤\n",
       "⌠                                   ⌠                           ⎥\n",
       "⎮  cos(3⋅t)⋅│cos(π⋅t)│ dt  cos(4⋅t)⋅⎮  cos(4⋅t)⋅│cos(π⋅t)│ dt   ⎥\n",
       "⌡                                   ⌡                           ⎥\n",
       "-π                                  -π                          ⎥\n",
       "─────────────────────────, ──────────────────────────────────, …⎥\n",
       "       π                                   π                    ⎦"
      ]
     },
     "execution_count": 43,
     "metadata": {},
     "output_type": "execute_result"
    }
   ],
   "source": [
    "s2.an"
   ]
  },
  {
   "cell_type": "code",
   "execution_count": 47,
   "metadata": {},
   "outputs": [
    {
     "name": "stdout",
     "output_type": "stream",
     "text": [
      "No\n"
     ]
    }
   ],
   "source": [
    "if s2.is_even:\n",
    "    print ('yes')\n",
    "else:\n",
    "    print ('No')"
   ]
  },
  {
   "cell_type": "code",
   "execution_count": 52,
   "metadata": {},
   "outputs": [
    {
     "data": {
      "image/png": "[encoded data removed]",
      "text/latex": [
       "$$\\left ( \\frac{1}{\\pi} \\cos{\\left (n t \\right )} \\int_{- \\pi}^{\\pi} \\cos{\\left (n t \\right )} \\left|{\\cos{\\left (\\pi t \\right )}}\\right|\\, dt, \\quad \\left ( n, \\quad 1, \\quad \\infty\\right )\\right )$$"
      ],
      "text/plain": [
       "⎛         π                                   ⎞\n",
       "⎜         ⌠                                   ⎟\n",
       "⎜cos(n⋅t)⋅⎮  cos(n⋅t)⋅│cos(π⋅t)│ dt           ⎟\n",
       "⎜         ⌡                                   ⎟\n",
       "⎜         -π                                  ⎟\n",
       "⎜──────────────────────────────────, (n, 1, ∞)⎟\n",
       "⎝                π                            ⎠"
      ]
     },
     "execution_count": 52,
     "metadata": {},
     "output_type": "execute_result"
    }
   ],
   "source": [
    "s2.an.args"
   ]
  },
  {
   "cell_type": "code",
   "execution_count": 53,
   "metadata": {
    "collapsed": true
   },
   "outputs": [],
   "source": [
    "fourier.FourierSeries??"
   ]
  }
 ],
 "metadata": {
  "kernelspec": {
   "display_name": "Python 3",
   "language": "python",
   "name": "python3"
  },
  "language_info": {
   "codemirror_mode": {
    "name": "ipython",
    "version": 3
   },
   "file_extension": ".py",
   "mimetype": "text/x-python",
   "name": "python",
   "nbconvert_exporter": "python",
   "pygments_lexer": "ipython3",
   "version": "3.6.1"
  }
 },
 "nbformat": 4,
 "nbformat_minor": 2
}
